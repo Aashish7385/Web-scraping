{
 "cells": [
  {
   "cell_type": "code",
   "execution_count": 1,
   "id": "1d8d3780-1bff-4f8e-8414-0d54505e8530",
   "metadata": {},
   "outputs": [],
   "source": [
    "# import the packages\n",
    "import pandas as pd\n",
    "from bs4 import BeautifulSoup as bs\n",
    "import requests\n"
   ]
  },
  {
   "cell_type": "code",
   "execution_count": 3,
   "id": "b9be37be-fc19-4ee4-b309-2720ad6efbc0",
   "metadata": {},
   "outputs": [],
   "source": [
    "# Get the URL of the data\n",
    "url='https://www.iplt20.com/auction'\n"
   ]
  },
  {
   "cell_type": "code",
   "execution_count": 5,
   "id": "4a15c59a-1720-4ecb-b8f4-18fd7df48f09",
   "metadata": {},
   "outputs": [],
   "source": [
    "#request to access the data\n",
    "web =requests.get(url)"
   ]
  },
  {
   "cell_type": "code",
   "execution_count": 7,
   "id": "076c1392-d7be-4b26-b2a7-2acc116b1e05",
   "metadata": {},
   "outputs": [
    {
     "data": {
      "text/plain": [
       "<Response [200]>"
      ]
     },
     "execution_count": 7,
     "metadata": {},
     "output_type": "execute_result"
    }
   ],
   "source": [
    "web"
   ]
  },
  {
   "cell_type": "code",
   "execution_count": 12,
   "id": "62a8cbff-4680-4dbe-bb86-869616acd506",
   "metadata": {},
   "outputs": [],
   "source": [
    "# geting html as text\n",
    "soup=bs(web.text,'html.parser')"
   ]
  },
  {
   "cell_type": "code",
   "execution_count": 13,
   "id": "bfa0f01a-c8cd-4f87-8fa9-fe96457abe11",
   "metadata": {},
   "outputs": [
    {
     "data": {
      "text/plain": [
       "<tr class=\"ih-pt-tbl\" style=\"display:revert\">\n",
       "<th class=\"skip-filter\" style=\"text-align: left;\">Sr. No.</th>\n",
       "<th class=\"skip-filter\" style=\"text-align: left;\">Player</th>\n",
       "<th>Base Price</th>\n",
       "<th>Winning Bid</th>\n",
       "<th>Capped/Uncapped</th>\n",
       "<th></th>\n",
       "</tr>"
      ]
     },
     "execution_count": 13,
     "metadata": {},
     "output_type": "execute_result"
    }
   ],
   "source": [
    "Headers=soup.find_all('tr',{'class':\"ih-pt-tbl\"})\n",
    "Headers[1]"
   ]
  },
  {
   "cell_type": "code",
   "execution_count": 14,
   "id": "898c7edb-d56b-492a-8fa7-0a198310db70",
   "metadata": {},
   "outputs": [
    {
     "data": {
      "text/plain": [
       "<tr class=\"ih-pt-tbl\" style=\"display:revert\">\n",
       "<th class=\"skip-filter\" style=\"text-align: left;\">Sr. No.</th>\n",
       "<th class=\"skip-filter\" style=\"text-align: left;\">Player</th>\n",
       "<th>Base Price</th>\n",
       "<th>Winning Bid</th>\n",
       "<th>Capped/Uncapped</th>\n",
       "<th></th>\n",
       "</tr>"
      ]
     },
     "execution_count": 14,
     "metadata": {},
     "output_type": "execute_result"
    }
   ],
   "source": [
    "Header=Headers[1]\n",
    "\n",
    "Header"
   ]
  },
  {
   "cell_type": "code",
   "execution_count": 17,
   "id": "fd7b2d87-80ec-4525-a723-9e4cfb0548a9",
   "metadata": {},
   "outputs": [
    {
     "data": {
      "text/plain": [
       "['Sr. No.', 'Player', 'Base Price', 'Winning Bid', 'Capped/Uncapped']"
      ]
     },
     "execution_count": 17,
     "metadata": {},
     "output_type": "execute_result"
    }
   ],
   "source": [
    "# exracting columns names and cleanig the text for use\n",
    "\n",
    "L1=[]\n",
    "L2=[]\n",
    "L3=[]\n",
    "for header in Header:\n",
    "    j=header.text.split()\n",
    "                                                                                                                         \n",
    "    L1.append(j)\n",
    "for i in L1:\n",
    "    k=(' ').join(i)\n",
    "    L2.append(k)\n",
    "L2=list(L2)\n",
    "\n",
    "L2\n",
    "L2=L2[1::2]\n",
    "\n",
    "L2=L2[:-1]\n",
    "L2\n"
   ]
  },
  {
   "cell_type": "code",
   "execution_count": 22,
   "id": "6cd15b62-d307-4273-a5aa-d3082fe0c434",
   "metadata": {},
   "outputs": [
    {
     "data": {
      "text/html": [
       "<div>\n",
       "<style scoped>\n",
       "    .dataframe tbody tr th:only-of-type {\n",
       "        vertical-align: middle;\n",
       "    }\n",
       "\n",
       "    .dataframe tbody tr th {\n",
       "        vertical-align: top;\n",
       "    }\n",
       "\n",
       "    .dataframe thead th {\n",
       "        text-align: right;\n",
       "    }\n",
       "</style>\n",
       "<table border=\"1\" class=\"dataframe\">\n",
       "  <thead>\n",
       "    <tr style=\"text-align: right;\">\n",
       "      <th></th>\n",
       "      <th>Sr. No.</th>\n",
       "      <th>Player</th>\n",
       "      <th>Base Price</th>\n",
       "      <th>Winning Bid</th>\n",
       "      <th>Capped/Uncapped</th>\n",
       "    </tr>\n",
       "  </thead>\n",
       "  <tbody>\n",
       "  </tbody>\n",
       "</table>\n",
       "</div>"
      ],
      "text/plain": [
       "Empty DataFrame\n",
       "Columns: [Sr. No., Player, Base Price, Winning Bid, Capped/Uncapped]\n",
       "Index: []"
      ]
     },
     "execution_count": 22,
     "metadata": {},
     "output_type": "execute_result"
    }
   ],
   "source": [
    "\n",
    "# making column of dataframe\n",
    "df = pd.DataFrame(columns=L2)\n",
    "df "
   ]
  },
  {
   "cell_type": "markdown",
   "id": "02cacbc5-1ac9-4208-878c-576e01b8791b",
   "metadata": {},
   "source": [
    "#Getting all row of table from the data like player list"
   ]
  },
  {
   "cell_type": "code",
   "execution_count": 25,
   "id": "56c3db55-0b41-4a7a-acb5-44ec89b760a0",
   "metadata": {},
   "outputs": [],
   "source": [
    "\n",
    "r_data=soup.select(\"tbody\",{'id':'rpSymbol'})\n",
    "r_data=r_data[1]\n",
    "# for i in r_data:\n",
    "#     data=i.select('tr')\n",
    "#     row=[i.text for td in data]\n",
    "\n",
    "\n",
    "R1=[]\n",
    "R2=[]\n",
    "r_data\n",
    "for row in r_data:\n",
    "    row.strip\n",
    "    j=row.text.split('\\n')\n",
    "    R1.append(j)\n",
    "# for i in R1:\n",
    "#     k=i.strip()\n",
    "R1[1][0:6]\n",
    "for i in range(len(R1)):\n",
    "    k=R1[i][1:6]\n",
    "    R2.append(k)\n",
    "R2=R2[1::2]\n",
    "\n"
   ]
  },
  {
   "cell_type": "code",
   "execution_count": 27,
   "id": "fb13706c-95cb-4193-b890-bda796c9a95b",
   "metadata": {},
   "outputs": [],
   "source": [
    "R2.insert(0,L2)"
   ]
  },
  {
   "cell_type": "code",
   "execution_count": 29,
   "id": "160c7d9f-f7ec-470d-9187-7470cabdc43b",
   "metadata": {},
   "outputs": [
    {
     "data": {
      "text/plain": [
       "[['Sr. No.', 'Player', 'Base Price', 'Winning Bid', 'Capped/Uncapped'],\n",
       " ['1 ', 'Noor Ahmad  ', '2,00,00,000 ', '10,00,00,000 ', 'Capped'],\n",
       " ['2 ', 'Ravichandaran Ashwin', '2,00,00,000 ', '9,75,00,000 ', 'Capped'],\n",
       " ['3 ', 'Devon Conway  ', '2,00,00,000 ', '6,25,00,000 ', 'Capped'],\n",
       " ['4 ', 'Syed Khaleel Ahmed', '2,00,00,000 ', '4,80,00,000 ', 'Capped'],\n",
       " ['5 ', 'Rachin Ravindra  ', '1,50,00,000 ', '4,00,00,000 ', 'Capped'],\n",
       " ['6 ', 'Anshul Kamboj', '30,00,000 ', '3,40,00,000 ', 'Uncapped'],\n",
       " ['7 ', 'Rahul Tripathi', '75,00,000 ', '3,40,00,000 ', 'Capped'],\n",
       " ['8 ', 'Sam Curran  ', '2,00,00,000 ', '2,40,00,000 ', 'Capped'],\n",
       " ['9 ', 'Gurjapneet Singh', '30,00,000 ', '2,20,00,000 ', 'Uncapped'],\n",
       " ['10 ', 'Nathan Ellis  ', '1,25,00,000 ', '2,00,00,000 ', 'Capped'],\n",
       " ['11 ', 'Deepak Hooda', '75,00,000 ', '1,70,00,000 ', 'Capped'],\n",
       " ['12 ', 'Jamie Overton  ', '1,50,00,000 ', '1,50,00,000 ', 'Capped'],\n",
       " ['13 ', 'Vijay Shankar', '30,00,000 ', '1,20,00,000 ', 'Uncapped'],\n",
       " ['14 ', 'Vansh Bedi', '30,00,000 ', '55,00,000 ', 'Uncapped'],\n",
       " ['15 ', 'Andre Siddarth', '30,00,000 ', '30,00,000 ', 'Uncapped'],\n",
       " ['16 ', 'Shreyas Gopal', '30,00,000 ', '30,00,000 ', 'Uncapped'],\n",
       " ['17 ', 'Ramakrishna Ghosh', '30,00,000 ', '30,00,000 ', 'Uncapped'],\n",
       " ['18 ', 'Kamlesh Nagarkoti', '30,00,000 ', '30,00,000 ', 'Uncapped'],\n",
       " ['19 ', 'Mukesh Choudhary', '30,00,000 ', '30,00,000 ', 'Uncapped'],\n",
       " ['20 ', 'Shaik Rasheed', '30,00,000 ', '30,00,000 ', 'Uncapped']]"
      ]
     },
     "execution_count": 29,
     "metadata": {},
     "output_type": "execute_result"
    }
   ],
   "source": [
    "R2"
   ]
  },
  {
   "cell_type": "code",
   "execution_count": 129,
   "id": "373bf302-3183-4b08-8d6f-139cee8e627a",
   "metadata": {},
   "outputs": [
    {
     "data": {
      "text/plain": [
       "[5, 6, 7]"
      ]
     },
     "execution_count": 129,
     "metadata": {},
     "output_type": "execute_result"
    }
   ],
   "source": [
    "a=[42,5,6,7,8]\n",
    "# q=get_elements_between_indices(a,1,3)\n",
    "a[1:3+1]"
   ]
  },
  {
   "cell_type": "code",
   "execution_count": 131,
   "id": "9c8516f6-78cf-40ee-aec0-40a448d5ce01",
   "metadata": {},
   "outputs": [
    {
     "name": "stdout",
     "output_type": "stream",
     "text": [
      "0\n",
      "1\n",
      "2\n",
      "3\n",
      "4\n"
     ]
    }
   ],
   "source": [
    "for i in range(len(a)):\n",
    "    print(i)"
   ]
  },
  {
   "cell_type": "code",
   "execution_count": 133,
   "id": "671a3a25-f637-4dc8-a009-db0cce3bf613",
   "metadata": {},
   "outputs": [
    {
     "data": {
      "text/plain": [
       "5"
      ]
     },
     "execution_count": 133,
     "metadata": {},
     "output_type": "execute_result"
    }
   ],
   "source": [
    "len(a)"
   ]
  },
  {
   "cell_type": "code",
   "execution_count": null,
   "id": "55cd9de1-f867-4c7a-bfcc-26c5a2595e2a",
   "metadata": {},
   "outputs": [],
   "source": []
  },
  {
   "cell_type": "code",
   "execution_count": 136,
   "id": "ec8c8ed4-80f6-49d1-83c0-8c7c262f84b0",
   "metadata": {},
   "outputs": [],
   "source": [
    "dff=pd.DataFrame(R2)"
   ]
  },
  {
   "cell_type": "code",
   "execution_count": null,
   "id": "3948207b-8db5-47b9-9817-08f0c618cb1f",
   "metadata": {},
   "outputs": [],
   "source": []
  },
  {
   "cell_type": "code",
   "execution_count": 724,
   "id": "472417a0-3b54-4e67-b3ef-88da91915744",
   "metadata": {},
   "outputs": [],
   "source": [
    "dff.columns=dff.iloc[0]"
   ]
  },
  {
   "cell_type": "code",
   "execution_count": 726,
   "id": "92005374-c046-4d13-b99f-422b3d4b45e8",
   "metadata": {},
   "outputs": [],
   "source": [
    "# dff.reset_index(drop=True,inplace=True)"
   ]
  },
  {
   "cell_type": "code",
   "execution_count": null,
   "id": "c6997c84-c2b8-46e0-8f69-78837229fbb8",
   "metadata": {},
   "outputs": [],
   "source": []
  },
  {
   "cell_type": "code",
   "execution_count": 155,
   "id": "ec201f52-cf44-4b9a-8111-f4992331347f",
   "metadata": {},
   "outputs": [],
   "source": [
    "dff.columns = dff.iloc[0]"
   ]
  },
  {
   "cell_type": "code",
   "execution_count": 157,
   "id": "d36b5a33-863e-4236-9534-90c62d3ef616",
   "metadata": {},
   "outputs": [],
   "source": [
    "DataF=dff.drop([0])"
   ]
  },
  {
   "cell_type": "code",
   "execution_count": 161,
   "id": "3f9008c8-8a38-4177-9b65-d853cc9295dd",
   "metadata": {},
   "outputs": [
    {
     "data": {
      "text/html": [
       "<div>\n",
       "<style scoped>\n",
       "    .dataframe tbody tr th:only-of-type {\n",
       "        vertical-align: middle;\n",
       "    }\n",
       "\n",
       "    .dataframe tbody tr th {\n",
       "        vertical-align: top;\n",
       "    }\n",
       "\n",
       "    .dataframe thead th {\n",
       "        text-align: right;\n",
       "    }\n",
       "</style>\n",
       "<table border=\"1\" class=\"dataframe\">\n",
       "  <thead>\n",
       "    <tr style=\"text-align: right;\">\n",
       "      <th></th>\n",
       "      <th>Sr. No.</th>\n",
       "      <th>Player</th>\n",
       "      <th>Base Price</th>\n",
       "      <th>Winning Bid</th>\n",
       "      <th>Capped/Uncapped</th>\n",
       "    </tr>\n",
       "  </thead>\n",
       "  <tbody>\n",
       "    <tr>\n",
       "      <th>1</th>\n",
       "      <td>1</td>\n",
       "      <td>Noor Ahmad</td>\n",
       "      <td>2,00,00,000</td>\n",
       "      <td>10,00,00,000</td>\n",
       "      <td>Capped</td>\n",
       "    </tr>\n",
       "    <tr>\n",
       "      <th>2</th>\n",
       "      <td>2</td>\n",
       "      <td>Ravichandaran Ashwin</td>\n",
       "      <td>2,00,00,000</td>\n",
       "      <td>9,75,00,000</td>\n",
       "      <td>Capped</td>\n",
       "    </tr>\n",
       "    <tr>\n",
       "      <th>3</th>\n",
       "      <td>3</td>\n",
       "      <td>Devon Conway</td>\n",
       "      <td>2,00,00,000</td>\n",
       "      <td>6,25,00,000</td>\n",
       "      <td>Capped</td>\n",
       "    </tr>\n",
       "    <tr>\n",
       "      <th>4</th>\n",
       "      <td>4</td>\n",
       "      <td>Syed Khaleel Ahmed</td>\n",
       "      <td>2,00,00,000</td>\n",
       "      <td>4,80,00,000</td>\n",
       "      <td>Capped</td>\n",
       "    </tr>\n",
       "    <tr>\n",
       "      <th>5</th>\n",
       "      <td>5</td>\n",
       "      <td>Rachin Ravindra</td>\n",
       "      <td>1,50,00,000</td>\n",
       "      <td>4,00,00,000</td>\n",
       "      <td>Capped</td>\n",
       "    </tr>\n",
       "    <tr>\n",
       "      <th>6</th>\n",
       "      <td>6</td>\n",
       "      <td>Anshul Kamboj</td>\n",
       "      <td>30,00,000</td>\n",
       "      <td>3,40,00,000</td>\n",
       "      <td>Uncapped</td>\n",
       "    </tr>\n",
       "    <tr>\n",
       "      <th>7</th>\n",
       "      <td>7</td>\n",
       "      <td>Rahul Tripathi</td>\n",
       "      <td>75,00,000</td>\n",
       "      <td>3,40,00,000</td>\n",
       "      <td>Capped</td>\n",
       "    </tr>\n",
       "    <tr>\n",
       "      <th>8</th>\n",
       "      <td>8</td>\n",
       "      <td>Sam Curran</td>\n",
       "      <td>2,00,00,000</td>\n",
       "      <td>2,40,00,000</td>\n",
       "      <td>Capped</td>\n",
       "    </tr>\n",
       "    <tr>\n",
       "      <th>9</th>\n",
       "      <td>9</td>\n",
       "      <td>Gurjapneet Singh</td>\n",
       "      <td>30,00,000</td>\n",
       "      <td>2,20,00,000</td>\n",
       "      <td>Uncapped</td>\n",
       "    </tr>\n",
       "    <tr>\n",
       "      <th>10</th>\n",
       "      <td>10</td>\n",
       "      <td>Nathan Ellis</td>\n",
       "      <td>1,25,00,000</td>\n",
       "      <td>2,00,00,000</td>\n",
       "      <td>Capped</td>\n",
       "    </tr>\n",
       "    <tr>\n",
       "      <th>11</th>\n",
       "      <td>11</td>\n",
       "      <td>Deepak Hooda</td>\n",
       "      <td>75,00,000</td>\n",
       "      <td>1,70,00,000</td>\n",
       "      <td>Capped</td>\n",
       "    </tr>\n",
       "    <tr>\n",
       "      <th>12</th>\n",
       "      <td>12</td>\n",
       "      <td>Jamie Overton</td>\n",
       "      <td>1,50,00,000</td>\n",
       "      <td>1,50,00,000</td>\n",
       "      <td>Capped</td>\n",
       "    </tr>\n",
       "    <tr>\n",
       "      <th>13</th>\n",
       "      <td>13</td>\n",
       "      <td>Vijay Shankar</td>\n",
       "      <td>30,00,000</td>\n",
       "      <td>1,20,00,000</td>\n",
       "      <td>Uncapped</td>\n",
       "    </tr>\n",
       "    <tr>\n",
       "      <th>14</th>\n",
       "      <td>14</td>\n",
       "      <td>Vansh Bedi</td>\n",
       "      <td>30,00,000</td>\n",
       "      <td>55,00,000</td>\n",
       "      <td>Uncapped</td>\n",
       "    </tr>\n",
       "    <tr>\n",
       "      <th>15</th>\n",
       "      <td>15</td>\n",
       "      <td>Andre Siddarth</td>\n",
       "      <td>30,00,000</td>\n",
       "      <td>30,00,000</td>\n",
       "      <td>Uncapped</td>\n",
       "    </tr>\n",
       "    <tr>\n",
       "      <th>16</th>\n",
       "      <td>16</td>\n",
       "      <td>Shreyas Gopal</td>\n",
       "      <td>30,00,000</td>\n",
       "      <td>30,00,000</td>\n",
       "      <td>Uncapped</td>\n",
       "    </tr>\n",
       "    <tr>\n",
       "      <th>17</th>\n",
       "      <td>17</td>\n",
       "      <td>Ramakrishna Ghosh</td>\n",
       "      <td>30,00,000</td>\n",
       "      <td>30,00,000</td>\n",
       "      <td>Uncapped</td>\n",
       "    </tr>\n",
       "    <tr>\n",
       "      <th>18</th>\n",
       "      <td>18</td>\n",
       "      <td>Kamlesh Nagarkoti</td>\n",
       "      <td>30,00,000</td>\n",
       "      <td>30,00,000</td>\n",
       "      <td>Uncapped</td>\n",
       "    </tr>\n",
       "    <tr>\n",
       "      <th>19</th>\n",
       "      <td>19</td>\n",
       "      <td>Mukesh Choudhary</td>\n",
       "      <td>30,00,000</td>\n",
       "      <td>30,00,000</td>\n",
       "      <td>Uncapped</td>\n",
       "    </tr>\n",
       "    <tr>\n",
       "      <th>20</th>\n",
       "      <td>20</td>\n",
       "      <td>Shaik Rasheed</td>\n",
       "      <td>30,00,000</td>\n",
       "      <td>30,00,000</td>\n",
       "      <td>Uncapped</td>\n",
       "    </tr>\n",
       "  </tbody>\n",
       "</table>\n",
       "</div>"
      ],
      "text/plain": [
       "0  Sr. No.                Player    Base Price    Winning Bid Capped/Uncapped\n",
       "1       1           Noor Ahmad    2,00,00,000   10,00,00,000           Capped\n",
       "2       2   Ravichandaran Ashwin  2,00,00,000    9,75,00,000           Capped\n",
       "3       3         Devon Conway    2,00,00,000    6,25,00,000           Capped\n",
       "4       4     Syed Khaleel Ahmed  2,00,00,000    4,80,00,000           Capped\n",
       "5       5      Rachin Ravindra    1,50,00,000    4,00,00,000           Capped\n",
       "6       6          Anshul Kamboj    30,00,000    3,40,00,000         Uncapped\n",
       "7       7         Rahul Tripathi    75,00,000    3,40,00,000           Capped\n",
       "8       8           Sam Curran    2,00,00,000    2,40,00,000           Capped\n",
       "9       9       Gurjapneet Singh    30,00,000    2,20,00,000         Uncapped\n",
       "10     10         Nathan Ellis    1,25,00,000    2,00,00,000           Capped\n",
       "11     11           Deepak Hooda    75,00,000    1,70,00,000           Capped\n",
       "12     12        Jamie Overton    1,50,00,000    1,50,00,000           Capped\n",
       "13     13          Vijay Shankar    30,00,000    1,20,00,000         Uncapped\n",
       "14     14             Vansh Bedi    30,00,000      55,00,000         Uncapped\n",
       "15     15         Andre Siddarth    30,00,000      30,00,000         Uncapped\n",
       "16     16          Shreyas Gopal    30,00,000      30,00,000         Uncapped\n",
       "17     17      Ramakrishna Ghosh    30,00,000      30,00,000         Uncapped\n",
       "18     18      Kamlesh Nagarkoti    30,00,000      30,00,000         Uncapped\n",
       "19     19       Mukesh Choudhary    30,00,000      30,00,000         Uncapped\n",
       "20     20          Shaik Rasheed    30,00,000      30,00,000         Uncapped"
      ]
     },
     "execution_count": 161,
     "metadata": {},
     "output_type": "execute_result"
    }
   ],
   "source": [
    "DataF"
   ]
  },
  {
   "cell_type": "code",
   "execution_count": 163,
   "id": "521af4bd-67c6-42d2-8fdf-05f0c759ef78",
   "metadata": {},
   "outputs": [],
   "source": [
    "DataF.to_csv('ipl.csv')"
   ]
  }
 ],
 "metadata": {
  "kernelspec": {
   "display_name": "Python [conda env:base] *",
   "language": "python",
   "name": "conda-base-py"
  },
  "language_info": {
   "codemirror_mode": {
    "name": "ipython",
    "version": 3
   },
   "file_extension": ".py",
   "mimetype": "text/x-python",
   "name": "python",
   "nbconvert_exporter": "python",
   "pygments_lexer": "ipython3",
   "version": "3.12.7"
  }
 },
 "nbformat": 4,
 "nbformat_minor": 5
}
