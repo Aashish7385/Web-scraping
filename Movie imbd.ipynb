{
 "cells": [
  {
   "cell_type": "markdown",
   "id": "293738dd-e217-4534-bd63-bf885d302fce",
   "metadata": {},
   "source": [
    "#Import importanat package in webscraping by BeautifulSoup"
   ]
  },
  {
   "cell_type": "code",
   "execution_count": 3,
   "id": "e8a46491-004d-442e-9ecc-04b0945d915d",
   "metadata": {},
   "outputs": [],
   "source": [
    "\n",
    "from bs4 import BeautifulSoup as bs\n",
    "import re\n",
    "import pandas as pd\n",
    "import requests\n",
    "# import numpy as np\n"
   ]
  },
  {
   "cell_type": "markdown",
   "id": "7bb72a38-74e9-46e1-82f7-8458c7446e6d",
   "metadata": {},
   "source": [
    "#Creating Veriable name url to store website page link"
   ]
  },
  {
   "cell_type": "code",
   "execution_count": 5,
   "id": "316aa906-3454-40c1-9373-f15451e2f2c3",
   "metadata": {},
   "outputs": [],
   "source": [
    "url='https://www.digitaltrends.com/movies/best-movies-on-netflix/#dt-heading-editors-pick'"
   ]
  },
  {
   "cell_type": "markdown",
   "id": "89bbd7a4-7474-4ce4-9011-19cb98c698af",
   "metadata": {},
   "source": [
    "#Using request to pull data"
   ]
  },
  {
   "cell_type": "code",
   "execution_count": 9,
   "id": "a89f3992-ca66-4b98-91fc-f4a898db7dcd",
   "metadata": {},
   "outputs": [],
   "source": [
    "web =requests.get(url)"
   ]
  },
  {
   "cell_type": "markdown",
   "id": "a369e41d-4773-4ff8-9768-a0b18fe065bf",
   "metadata": {},
   "source": [
    "#Checking,Is  website  is sharing data or not if it is then response is 200 else 400."
   ]
  },
  {
   "cell_type": "code",
   "execution_count": 11,
   "id": "c78c7e8b-ad12-4424-8c6a-cbae301edc19",
   "metadata": {},
   "outputs": [
    {
     "data": {
      "text/plain": [
       "<Response [200]>"
      ]
     },
     "execution_count": 11,
     "metadata": {},
     "output_type": "execute_result"
    }
   ],
   "source": [
    "web"
   ]
  },
  {
   "cell_type": "code",
   "execution_count": 12,
   "id": "708e2e95-f6f4-48eb-930d-51145dbc4236",
   "metadata": {},
   "outputs": [
    {
     "data": {
      "text/plain": [
       "list"
      ]
     },
     "execution_count": 12,
     "metadata": {},
     "output_type": "execute_result"
    }
   ],
   "source": [
    "# get html contentes\n",
    "soup=bs(web.text,\"html.parser\")\n",
    "\n",
    "\n",
    "# titles select insides the HTML TAGs\n",
    "titles=soup.select('h3',{'class':'b-media__title'})\n",
    "\n",
    "\n",
    "# for accessing name from titles\n",
    "listd=[]\n",
    "\n",
    "# extract name only from the string\n",
    "for title in titles:\n",
    "    j=title.text.split()\n",
    "    listd.append(j)\n",
    "list\n"
   ]
  },
  {
   "cell_type": "code",
   "execution_count": 13,
   "id": "0016fbc9-d128-4533-b08d-91ad651f11fc",
   "metadata": {},
   "outputs": [],
   "source": [
    "\n",
    "\n",
    "# Years of movies release\n",
    "year = []\n",
    "for x in listd:\n",
    "    year.append(x[-1]) \n",
    "\n",
    "# year\n",
    "\n",
    "# year"
   ]
  },
  {
   "cell_type": "code",
   "execution_count": 14,
   "id": "1cd99428-a7a5-4f91-a525-e1864e830467",
   "metadata": {},
   "outputs": [
    {
     "data": {
      "text/plain": [
       "list"
      ]
     },
     "execution_count": 14,
     "metadata": {},
     "output_type": "execute_result"
    }
   ],
   "source": [
    "type(listd)"
   ]
  },
  {
   "cell_type": "code",
   "execution_count": 15,
   "id": "6b729392-8c12-49dc-b05e-939843a09d31",
   "metadata": {},
   "outputs": [
    {
     "data": {
      "text/plain": [
       "list"
      ]
     },
     "execution_count": 15,
     "metadata": {},
     "output_type": "execute_result"
    }
   ],
   "source": [
    "type(year)"
   ]
  },
  {
   "cell_type": "code",
   "execution_count": 18,
   "id": "ee1c4afa-df21-462c-b84b-957e5b100561",
   "metadata": {},
   "outputs": [
    {
     "data": {
      "text/plain": [
       "bs4.element.ResultSet"
      ]
     },
     "execution_count": 18,
     "metadata": {},
     "output_type": "execute_result"
    }
   ],
   "source": [
    "type(titles)"
   ]
  },
  {
   "cell_type": "code",
   "execution_count": 24,
   "id": "93927d6e-a0a7-4e66-a235-b2f0ea45a24d",
   "metadata": {},
   "outputs": [
    {
     "data": {
      "text/plain": [
       "bs4.BeautifulSoup"
      ]
     },
     "execution_count": 24,
     "metadata": {},
     "output_type": "execute_result"
    }
   ],
   "source": [
    "type(soup)"
   ]
  },
  {
   "cell_type": "code",
   "execution_count": 26,
   "id": "3809d946-f224-42f6-ab70-ff526cb3112b",
   "metadata": {},
   "outputs": [],
   "source": [
    "# mtitle=[]\n",
    "# for i in listd:\n",
    "#     mtitles=listd[:-1]\n",
    "#     mtitles=(''.join(i))\n",
    "# for titless in  mtitles:\n",
    "#     print(titless)\n",
    "# print(mtitle)"
   ]
  },
  {
   "cell_type": "markdown",
   "id": "b604f822-2e5a-479c-a953-59931ff18934",
   "metadata": {},
   "source": [
    "#using for loops for extracting tittle(string) or years of releasing"
   ]
  },
  {
   "cell_type": "code",
   "execution_count": 29,
   "id": "7de05fe6-b825-467c-95fe-5588514ac6ca",
   "metadata": {},
   "outputs": [
    {
     "name": "stdout",
     "output_type": "stream",
     "text": [
      "Godzilla x Kong: The New Empire\n",
      "Robin Hood\n",
      "Barbie\n",
      "The Six Triple Eight\n",
      "It Ends with Us\n",
      "Carry-On\n",
      "Faster\n",
      "Afraid\n",
      "Million Dollar Baby\n",
      "Spellbound\n",
      "Rob Peace\n",
      "The Whale\n",
      "Fast Five\n",
      "The Lost City\n",
      "Oblivion\n",
      "Kung Fu Panda 4\n",
      "A Quiet Place Part II\n",
      "Woman of the Hour\n",
      "Bad Boys: Ride or Die\n",
      "Scream\n",
      "The Garfield Movie\n",
      "Rebel Ridge\n",
      "The Deliverance\n",
      "The Union\n",
      "Migration\n",
      "Pearl\n",
      "Ghostbusters: Frozen Empire\n",
      "Bone Tomahawk\n",
      "Beverly Hills Cop: Axel F\n",
      "Hit Man\n",
      "Godzilla Minus One\n",
      "Anyone But You\n",
      "Baby Driver\n",
      "The Wages of Fear\n",
      "Your Lucky Day\n",
      "Damsel\n",
      "Spaceman\n",
      "Thanksgiving\n",
      "Orion and the Dark\n",
      "Dumb Money\n",
      "Society of the Snow\n",
      "The Equalizer 3\n",
      "Maestro\n",
      "The Killer\n",
      "Spider-Man: Across the Spider-Verse\n",
      "No Hard Feelings\n",
      "Editors’\n",
      "2024\n",
      "2010\n",
      "2023\n",
      "2024\n",
      "2024\n",
      "2024\n",
      "2010\n",
      "2024\n",
      "2004\n",
      "2024\n",
      "2024\n",
      "2022\n",
      "2011\n",
      "2022\n",
      "2013\n",
      "2024\n",
      "2021\n",
      "2024\n",
      "2024\n",
      "2022\n",
      "2024\n",
      "2024\n",
      "2024\n",
      "2024\n",
      "2023\n",
      "2022\n",
      "2024\n",
      "2015\n",
      "2024\n",
      "2024\n",
      "2023\n",
      "2023\n",
      "2017\n",
      "2024\n",
      "2023\n",
      "2024\n",
      "2024\n",
      "2023\n",
      "2024\n",
      "2023\n",
      "2023\n",
      "2023\n",
      "2023\n",
      "2023\n",
      "2023\n",
      "2023\n",
      "Recommendations\n"
     ]
    }
   ],
   "source": [
    "movie_titles = []\n",
    "release_years = []\n",
    "\n",
    "for movie_data in listd:\n",
    "    # Extract year from the last element \n",
    "    year = movie_data[-1].replace('(', '').replace(')', '') \n",
    "    release_years.append(year)\n",
    "\n",
    "    # Join title parts with spaces\n",
    "    title_parts = movie_data[:-1]  # Exclude the year element\n",
    "    movie_title = ' '.join(title_parts)\n",
    "    movie_titles.append(movie_title)\n",
    "\n",
    "\n",
    "# print(\"Movie Titles:\")\n",
    "\n",
    "for titled in movie_titles:\n",
    "    print(titled)\n",
    "    \n",
    "\n",
    "# print(\"\\nRelease Years:\")\n",
    "for yeard in release_years:\n",
    "    print(yeard)\n"
   ]
  },
  {
   "cell_type": "code",
   "execution_count": 30,
   "id": "f4a382d8-3adf-410b-99fa-517d4e15ef4b",
   "metadata": {},
   "outputs": [],
   "source": [
    "# I try to extract IBD and genra of movis but i cant because data in HTML tag is not orgnised well to extract"
   ]
  },
  {
   "cell_type": "code",
   "execution_count": 33,
   "id": "bd25e8ca-2238-46b5-98e4-e3b2beee10f8",
   "metadata": {},
   "outputs": [],
   "source": [
    "# acess imbd of movies\n",
    "imbd_html=soup.select('div',{'class':'b-media__score'})\n",
    "\n",
    "\n",
    "# m_imbd=[]\n",
    "# for genra in imbd_html:\n",
    "#     genras=genra.get_text\n",
    "#     print(genras)\n",
    "#     m_imbd.append(genras)\n",
    "#     # print(m_imbd)\n",
    "    \n",
    "# # m_imbd\n",
    "# # type(m_imbd)\n"
   ]
  },
  {
   "cell_type": "code",
   "execution_count": 53,
   "id": "496872f7-42e3-4517-9ffe-cd01d512a087",
   "metadata": {},
   "outputs": [
    {
     "data": {
      "text/plain": [
       "dict"
      ]
     },
     "execution_count": 53,
     "metadata": {},
     "output_type": "execute_result"
    }
   ],
   "source": [
    "type(data)"
   ]
  },
  {
   "cell_type": "markdown",
   "id": "ea54c751-e5ae-47ef-96ad-ffd137e88ff1",
   "metadata": {},
   "source": [
    "#converting data into dataFrame then CSV with help of Panda packages."
   ]
  },
  {
   "cell_type": "code",
   "execution_count": 59,
   "id": "bf92402f-fb2d-4883-9bb4-9a187cd03b2e",
   "metadata": {},
   "outputs": [],
   "source": [
    "data={\"movie name\":movie_titles,\"Years\":release_years}\n",
    "df=pd.DataFrame(data)\n",
    "dff=df[:-1]\n",
    "dff.to_csv('movie.csv')"
   ]
  },
  {
   "cell_type": "code",
   "execution_count": 61,
   "id": "cab97c97-f85f-48dc-ba2e-503b3140e338",
   "metadata": {},
   "outputs": [
    {
     "data": {
      "text/html": [
       "<div>\n",
       "<style scoped>\n",
       "    .dataframe tbody tr th:only-of-type {\n",
       "        vertical-align: middle;\n",
       "    }\n",
       "\n",
       "    .dataframe tbody tr th {\n",
       "        vertical-align: top;\n",
       "    }\n",
       "\n",
       "    .dataframe thead th {\n",
       "        text-align: right;\n",
       "    }\n",
       "</style>\n",
       "<table border=\"1\" class=\"dataframe\">\n",
       "  <thead>\n",
       "    <tr style=\"text-align: right;\">\n",
       "      <th></th>\n",
       "      <th>movie name</th>\n",
       "      <th>Years</th>\n",
       "    </tr>\n",
       "  </thead>\n",
       "  <tbody>\n",
       "    <tr>\n",
       "      <th>0</th>\n",
       "      <td>Godzilla x Kong: The New Empire</td>\n",
       "      <td>2024</td>\n",
       "    </tr>\n",
       "    <tr>\n",
       "      <th>1</th>\n",
       "      <td>Robin Hood</td>\n",
       "      <td>2010</td>\n",
       "    </tr>\n",
       "    <tr>\n",
       "      <th>2</th>\n",
       "      <td>Barbie</td>\n",
       "      <td>2023</td>\n",
       "    </tr>\n",
       "    <tr>\n",
       "      <th>3</th>\n",
       "      <td>The Six Triple Eight</td>\n",
       "      <td>2024</td>\n",
       "    </tr>\n",
       "    <tr>\n",
       "      <th>4</th>\n",
       "      <td>It Ends with Us</td>\n",
       "      <td>2024</td>\n",
       "    </tr>\n",
       "    <tr>\n",
       "      <th>5</th>\n",
       "      <td>Carry-On</td>\n",
       "      <td>2024</td>\n",
       "    </tr>\n",
       "    <tr>\n",
       "      <th>6</th>\n",
       "      <td>Faster</td>\n",
       "      <td>2010</td>\n",
       "    </tr>\n",
       "    <tr>\n",
       "      <th>7</th>\n",
       "      <td>Afraid</td>\n",
       "      <td>2024</td>\n",
       "    </tr>\n",
       "    <tr>\n",
       "      <th>8</th>\n",
       "      <td>Million Dollar Baby</td>\n",
       "      <td>2004</td>\n",
       "    </tr>\n",
       "    <tr>\n",
       "      <th>9</th>\n",
       "      <td>Spellbound</td>\n",
       "      <td>2024</td>\n",
       "    </tr>\n",
       "    <tr>\n",
       "      <th>10</th>\n",
       "      <td>Rob Peace</td>\n",
       "      <td>2024</td>\n",
       "    </tr>\n",
       "    <tr>\n",
       "      <th>11</th>\n",
       "      <td>The Whale</td>\n",
       "      <td>2022</td>\n",
       "    </tr>\n",
       "    <tr>\n",
       "      <th>12</th>\n",
       "      <td>Fast Five</td>\n",
       "      <td>2011</td>\n",
       "    </tr>\n",
       "    <tr>\n",
       "      <th>13</th>\n",
       "      <td>The Lost City</td>\n",
       "      <td>2022</td>\n",
       "    </tr>\n",
       "    <tr>\n",
       "      <th>14</th>\n",
       "      <td>Oblivion</td>\n",
       "      <td>2013</td>\n",
       "    </tr>\n",
       "    <tr>\n",
       "      <th>15</th>\n",
       "      <td>Kung Fu Panda 4</td>\n",
       "      <td>2024</td>\n",
       "    </tr>\n",
       "    <tr>\n",
       "      <th>16</th>\n",
       "      <td>A Quiet Place Part II</td>\n",
       "      <td>2021</td>\n",
       "    </tr>\n",
       "    <tr>\n",
       "      <th>17</th>\n",
       "      <td>Woman of the Hour</td>\n",
       "      <td>2024</td>\n",
       "    </tr>\n",
       "    <tr>\n",
       "      <th>18</th>\n",
       "      <td>Bad Boys: Ride or Die</td>\n",
       "      <td>2024</td>\n",
       "    </tr>\n",
       "    <tr>\n",
       "      <th>19</th>\n",
       "      <td>Scream</td>\n",
       "      <td>2022</td>\n",
       "    </tr>\n",
       "    <tr>\n",
       "      <th>20</th>\n",
       "      <td>The Garfield Movie</td>\n",
       "      <td>2024</td>\n",
       "    </tr>\n",
       "    <tr>\n",
       "      <th>21</th>\n",
       "      <td>Rebel Ridge</td>\n",
       "      <td>2024</td>\n",
       "    </tr>\n",
       "    <tr>\n",
       "      <th>22</th>\n",
       "      <td>The Deliverance</td>\n",
       "      <td>2024</td>\n",
       "    </tr>\n",
       "    <tr>\n",
       "      <th>23</th>\n",
       "      <td>The Union</td>\n",
       "      <td>2024</td>\n",
       "    </tr>\n",
       "    <tr>\n",
       "      <th>24</th>\n",
       "      <td>Migration</td>\n",
       "      <td>2023</td>\n",
       "    </tr>\n",
       "    <tr>\n",
       "      <th>25</th>\n",
       "      <td>Pearl</td>\n",
       "      <td>2022</td>\n",
       "    </tr>\n",
       "    <tr>\n",
       "      <th>26</th>\n",
       "      <td>Ghostbusters: Frozen Empire</td>\n",
       "      <td>2024</td>\n",
       "    </tr>\n",
       "    <tr>\n",
       "      <th>27</th>\n",
       "      <td>Bone Tomahawk</td>\n",
       "      <td>2015</td>\n",
       "    </tr>\n",
       "    <tr>\n",
       "      <th>28</th>\n",
       "      <td>Beverly Hills Cop: Axel F</td>\n",
       "      <td>2024</td>\n",
       "    </tr>\n",
       "    <tr>\n",
       "      <th>29</th>\n",
       "      <td>Hit Man</td>\n",
       "      <td>2024</td>\n",
       "    </tr>\n",
       "    <tr>\n",
       "      <th>30</th>\n",
       "      <td>Godzilla Minus One</td>\n",
       "      <td>2023</td>\n",
       "    </tr>\n",
       "    <tr>\n",
       "      <th>31</th>\n",
       "      <td>Anyone But You</td>\n",
       "      <td>2023</td>\n",
       "    </tr>\n",
       "    <tr>\n",
       "      <th>32</th>\n",
       "      <td>Baby Driver</td>\n",
       "      <td>2017</td>\n",
       "    </tr>\n",
       "    <tr>\n",
       "      <th>33</th>\n",
       "      <td>The Wages of Fear</td>\n",
       "      <td>2024</td>\n",
       "    </tr>\n",
       "    <tr>\n",
       "      <th>34</th>\n",
       "      <td>Your Lucky Day</td>\n",
       "      <td>2023</td>\n",
       "    </tr>\n",
       "    <tr>\n",
       "      <th>35</th>\n",
       "      <td>Damsel</td>\n",
       "      <td>2024</td>\n",
       "    </tr>\n",
       "    <tr>\n",
       "      <th>36</th>\n",
       "      <td>Spaceman</td>\n",
       "      <td>2024</td>\n",
       "    </tr>\n",
       "    <tr>\n",
       "      <th>37</th>\n",
       "      <td>Thanksgiving</td>\n",
       "      <td>2023</td>\n",
       "    </tr>\n",
       "    <tr>\n",
       "      <th>38</th>\n",
       "      <td>Orion and the Dark</td>\n",
       "      <td>2024</td>\n",
       "    </tr>\n",
       "    <tr>\n",
       "      <th>39</th>\n",
       "      <td>Dumb Money</td>\n",
       "      <td>2023</td>\n",
       "    </tr>\n",
       "    <tr>\n",
       "      <th>40</th>\n",
       "      <td>Society of the Snow</td>\n",
       "      <td>2023</td>\n",
       "    </tr>\n",
       "    <tr>\n",
       "      <th>41</th>\n",
       "      <td>The Equalizer 3</td>\n",
       "      <td>2023</td>\n",
       "    </tr>\n",
       "    <tr>\n",
       "      <th>42</th>\n",
       "      <td>Maestro</td>\n",
       "      <td>2023</td>\n",
       "    </tr>\n",
       "    <tr>\n",
       "      <th>43</th>\n",
       "      <td>The Killer</td>\n",
       "      <td>2023</td>\n",
       "    </tr>\n",
       "    <tr>\n",
       "      <th>44</th>\n",
       "      <td>Spider-Man: Across the Spider-Verse</td>\n",
       "      <td>2023</td>\n",
       "    </tr>\n",
       "    <tr>\n",
       "      <th>45</th>\n",
       "      <td>No Hard Feelings</td>\n",
       "      <td>2023</td>\n",
       "    </tr>\n",
       "  </tbody>\n",
       "</table>\n",
       "</div>"
      ],
      "text/plain": [
       "                             movie name Years\n",
       "0       Godzilla x Kong: The New Empire  2024\n",
       "1                            Robin Hood  2010\n",
       "2                                Barbie  2023\n",
       "3                  The Six Triple Eight  2024\n",
       "4                       It Ends with Us  2024\n",
       "5                              Carry-On  2024\n",
       "6                                Faster  2010\n",
       "7                                Afraid  2024\n",
       "8                   Million Dollar Baby  2004\n",
       "9                            Spellbound  2024\n",
       "10                            Rob Peace  2024\n",
       "11                            The Whale  2022\n",
       "12                            Fast Five  2011\n",
       "13                        The Lost City  2022\n",
       "14                             Oblivion  2013\n",
       "15                      Kung Fu Panda 4  2024\n",
       "16                A Quiet Place Part II  2021\n",
       "17                    Woman of the Hour  2024\n",
       "18                Bad Boys: Ride or Die  2024\n",
       "19                               Scream  2022\n",
       "20                   The Garfield Movie  2024\n",
       "21                          Rebel Ridge  2024\n",
       "22                      The Deliverance  2024\n",
       "23                            The Union  2024\n",
       "24                            Migration  2023\n",
       "25                                Pearl  2022\n",
       "26          Ghostbusters: Frozen Empire  2024\n",
       "27                        Bone Tomahawk  2015\n",
       "28            Beverly Hills Cop: Axel F  2024\n",
       "29                              Hit Man  2024\n",
       "30                   Godzilla Minus One  2023\n",
       "31                       Anyone But You  2023\n",
       "32                          Baby Driver  2017\n",
       "33                    The Wages of Fear  2024\n",
       "34                       Your Lucky Day  2023\n",
       "35                               Damsel  2024\n",
       "36                             Spaceman  2024\n",
       "37                         Thanksgiving  2023\n",
       "38                   Orion and the Dark  2024\n",
       "39                           Dumb Money  2023\n",
       "40                  Society of the Snow  2023\n",
       "41                      The Equalizer 3  2023\n",
       "42                              Maestro  2023\n",
       "43                           The Killer  2023\n",
       "44  Spider-Man: Across the Spider-Verse  2023\n",
       "45                     No Hard Feelings  2023"
      ]
     },
     "execution_count": 61,
     "metadata": {},
     "output_type": "execute_result"
    }
   ],
   "source": [
    "dff"
   ]
  },
  {
   "cell_type": "code",
   "execution_count": null,
   "id": "236349fe-e69b-4805-9d97-6df8ae714d90",
   "metadata": {},
   "outputs": [],
   "source": []
  },
  {
   "cell_type": "code",
   "execution_count": null,
   "id": "80fdf8a8-2c81-4be1-bad0-84f55d83dc10",
   "metadata": {},
   "outputs": [],
   "source": []
  },
  {
   "cell_type": "code",
   "execution_count": null,
   "id": "6c785849-5274-4b57-bf6f-9d0715b0c16a",
   "metadata": {},
   "outputs": [],
   "source": []
  },
  {
   "cell_type": "code",
   "execution_count": null,
   "id": "8bfc8600-de9a-4f4f-9b6f-fb41ddbac124",
   "metadata": {},
   "outputs": [],
   "source": []
  },
  {
   "cell_type": "code",
   "execution_count": null,
   "id": "76fa4747-9acd-4fff-9ecd-0967bccecce4",
   "metadata": {},
   "outputs": [],
   "source": []
  },
  {
   "cell_type": "code",
   "execution_count": null,
   "id": "0b88a8ae-466f-41ab-8de5-60784088fb8b",
   "metadata": {},
   "outputs": [],
   "source": []
  },
  {
   "cell_type": "code",
   "execution_count": null,
   "id": "dde59224-4bb2-4239-82fa-bdfe02c4c5fc",
   "metadata": {},
   "outputs": [],
   "source": []
  },
  {
   "cell_type": "code",
   "execution_count": null,
   "id": "7b1b6b98-2093-41c8-9a32-5d04aa103595",
   "metadata": {},
   "outputs": [],
   "source": []
  },
  {
   "cell_type": "code",
   "execution_count": null,
   "id": "86b24c97-3703-4588-bc1b-e9c432fa702d",
   "metadata": {},
   "outputs": [],
   "source": []
  }
 ],
 "metadata": {
  "kernelspec": {
   "display_name": "Python [conda env:base] *",
   "language": "python",
   "name": "conda-base-py"
  },
  "language_info": {
   "codemirror_mode": {
    "name": "ipython",
    "version": 3
   },
   "file_extension": ".py",
   "mimetype": "text/x-python",
   "name": "python",
   "nbconvert_exporter": "python",
   "pygments_lexer": "ipython3",
   "version": "3.12.7"
  }
 },
 "nbformat": 4,
 "nbformat_minor": 5
}
